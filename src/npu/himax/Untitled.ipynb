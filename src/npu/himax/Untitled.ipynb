{
 "cells": [
  {
   "cell_type": "code",
   "execution_count": 1,
   "id": "5b045302-d372-40b1-a229-ff9395365aad",
   "metadata": {},
   "outputs": [
    {
     "name": "stdout",
     "output_type": "stream",
     "text": [
      "Cloning into 'ethos-u-vela'...\n",
      "remote: Counting objects: 80, done\u001b[K\n",
      "remote: Finding sources: 100% (10824/10824)\u001b[K\u001b[K\n",
      "remote: Total 10824 (delta 6916), reused 9357 (delta 6916)\u001b[K\n",
      "Receiving objects: 100% (10824/10824), 5.76 MiB | 6.11 MiB/s, done.\n",
      "Resolving deltas: 100% (6916/6916), done.\n",
      "/Users/joshmillar/Desktop/phd/mcu-nn-eval/npu/grove/ethos-u-vela\n",
      "Processing /Users/joshmillar/Desktop/phd/mcu-nn-eval/npu/grove/ethos-u-vela\n",
      "  Installing build dependencies ... \u001b[?25ldone\n",
      "\u001b[?25h  Getting requirements to build wheel ... \u001b[?25ldone\n",
      "\u001b[?25h  Preparing metadata (pyproject.toml) ... \u001b[?25ldone\n",
      "\u001b[?25hRequirement already satisfied: flatbuffers==24.3.25 in /opt/anaconda3/lib/python3.12/site-packages (from ethos-u-vela==4.1.1.dev18+g86ea209) (24.3.25)\n",
      "Requirement already satisfied: numpy>1.10.0 in /opt/anaconda3/lib/python3.12/site-packages (from ethos-u-vela==4.1.1.dev18+g86ea209) (1.26.4)\n",
      "Requirement already satisfied: lxml>=4.5.2 in /opt/anaconda3/lib/python3.12/site-packages (from ethos-u-vela==4.1.1.dev18+g86ea209) (5.2.1)\n",
      "Building wheels for collected packages: ethos-u-vela\n",
      "  Building wheel for ethos-u-vela (pyproject.toml) ... \u001b[?25ldone\n",
      "\u001b[?25h  Created wheel for ethos-u-vela: filename=ethos_u_vela-4.1.1.dev18+g86ea209-cp312-cp312-macosx_14_0_arm64.whl size=1480540 sha256=7ba7f1c78a31e7e17a57b96a713f1ccfd1aced82348242e12332e8d870ce138e\n",
      "  Stored in directory: /Users/joshmillar/Library/Caches/pip/wheels/1a/ec/10/9cc64fdabf81553997e28067f67199a66c31cbc380a1ffc017\n",
      "Successfully built ethos-u-vela\n",
      "Installing collected packages: ethos-u-vela\n",
      "  Attempting uninstall: ethos-u-vela\n",
      "    Found existing installation: ethos-u-vela 4.1.0\n",
      "    Uninstalling ethos-u-vela-4.1.0:\n",
      "      Successfully uninstalled ethos-u-vela-4.1.0\n",
      "Successfully installed ethos-u-vela-4.1.1.dev18+g86ea209\n",
      "/Users/joshmillar/Desktop/phd/mcu-nn-eval/npu/grove\n",
      "Cloning into 'ModelAssistant'...\n",
      "remote: Enumerating objects: 15700, done.\u001b[K\n",
      "remote: Counting objects: 100% (2286/2286), done.\u001b[K\n",
      "remote: Compressing objects: 100% (707/707), done.\u001b[K\n",
      "remote: Total 15700 (delta 1777), reused 1621 (delta 1577), pack-reused 13414 (from 2)\u001b[K\n",
      "Receiving objects: 100% (15700/15700), 26.68 MiB | 9.08 MiB/s, done.\n",
      "Resolving deltas: 100% (9234/9234), done.\n",
      "/Users/joshmillar/Desktop/phd/mcu-nn-eval/npu/grove/ModelAssistant\n",
      "Checking if CUDA available... \u001b[031mNot found!\u001b[m\n",
      "Please enable GPU Runtime\u001b[m\n"
     ]
    }
   ],
   "source": [
    "!git clone https://review.mlplatform.org/ml/ethos-u/ethos-u-vela.git\n",
    "%cd ethos-u-vela\n",
    "!pip install .\n",
    "%cd ..\n",
    "\n",
    "!git clone https://github.com/Seeed-Studio/ModelAssistant.git -b 2.0.0  #clone the repo\n",
    "%cd ModelAssistant\n",
    "!. ./scripts/setup_colab.sh"
   ]
  },
  {
   "cell_type": "code",
   "execution_count": null,
   "id": "4e07aac6-9420-4702-bcbc-eb93891b79f0",
   "metadata": {},
   "outputs": [],
   "source": []
  }
 ],
 "metadata": {
  "kernelspec": {
   "display_name": "Python 3 (ipykernel)",
   "language": "python",
   "name": "python3"
  },
  "language_info": {
   "codemirror_mode": {
    "name": "ipython",
    "version": 3
   },
   "file_extension": ".py",
   "mimetype": "text/x-python",
   "name": "python",
   "nbconvert_exporter": "python",
   "pygments_lexer": "ipython3",
   "version": "3.12.7"
  }
 },
 "nbformat": 4,
 "nbformat_minor": 5
}
